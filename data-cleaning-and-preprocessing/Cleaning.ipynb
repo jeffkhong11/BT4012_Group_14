{
 "cells": [
  {
   "cell_type": "code",
   "execution_count": 1,
   "metadata": {},
   "outputs": [
    {
     "name": "stdout",
     "output_type": "stream",
     "text": [
      "Raw Dataset Shape: (165358, 7)\n",
      "Raw Dataset Null Counts:\n",
      "sender       284\n",
      "receiver    3542\n",
      "date        2312\n",
      "subject     2750\n",
      "body         619\n",
      "label        772\n",
      "urls         772\n",
      "dtype: int64\n",
      "\n",
      "Senders with more than one '@': ['Daily Top 10 <\"eojamli_1977@89webdesign.co.uk>\"@teff16.cs.uwaterloo.ca>'\n",
      " 'lejmi <\"lejmi-vernaht@stfrancis.k12.mn.us>\"@teff16.cs.uwaterloo.ca>'\n",
      " 'Hyatt <\"torres-vatermo@stfrancis.k12.mn.us>\"@teff16.cs.uwaterloo.ca>'\n",
      " 'Daily Top 10 <\"ote-ableips@3rx.b.tep1.com>\"@teff16.cs.uwaterloo.ca>'\n",
      " 'Daily Top 10 <\"enhahtu@cornwallacf.co.uk>\"@teff16.cs.uwaterloo.ca>'\n",
      " 'Daily Top 10 <\"urendes@evolusoft.com>\"@teff16.cs.uwaterloo.ca>'\n",
      " 'Daily Top 10 <\"wolfter_1968@banklife.ru>\"@teff16.cs.uwaterloo.ca>'\n",
      " '\"clima VI <jxczn-yg@deis.unibo.it>\"@cs.orst.edu'\n",
      " 'Daily Top 10 <\"srabzna1980@3gforfree.com>\"@teff16.cs.uwaterloo.ca>'\n",
      " 'Daily Top 10 <\"hcnuteg1999@posteasy.com>\"@teff16.cs.uwaterloo.ca>'\n",
      " 'Daily Top 10 <\"pfelter1960@acnj.org>\"@teff16.cs.uwaterloo.ca>'\n",
      " 'Daily Top 10 <\"Marcell-russtet@gtindustries-llc.com>\"@teff16.cs.uwaterloo.ca>'\n",
      " 'Daily Top 10 <\"sffalke1957@ruralprojects.ru>\"@teff16.cs.uwaterloo.ca>'\n",
      " 'Daily Top 10 <\"netsgar_1995@pctinet.com>\"@teff16.cs.uwaterloo.ca>'\n",
      " 'Daily Top 10 <\"metrebu_2007@5starserv.com>\"@teff16.cs.uwaterloo.ca>'\n",
      " 'CNN Alerts <\"reetlak_1964@knack.be>\"@teff16.cs.uwaterloo.ca>'\n",
      " 'CNN Alerts <\"roffnen1973@na.sappi.com>\"@teff16.cs.uwaterloo.ca>'\n",
      " \"WHO'S@mail02.freesoftwarepromotions.com, WHO@mail02.freesoftwarepromotions.com, Historical@mail02.freesoftwarepromotions.com, Society@mail02.dataonemarketing.com\"\n",
      " 'Javier Perez <javier_lotteria2005@latinmail.com>, javier_lotteria2005@ozu.es'\n",
      " '\"K.L.McKinnon\" <\"klmckin@nospam\"@magmacom.com>'\n",
      " '\"[%from_name%]\" <\"[%from_email@]\"@sunrise.cs.olemiss.edu>'\n",
      " '\"Rory SaundersFrom: Rory.Saunders <RuthieKraft@dasoft.com>\"@flax9.uwaterloo.ca']\n",
      "Count of improper sender rows: 25\n",
      "\n",
      "Cleaned Dataset Shape: (158375, 7)\n",
      "<class 'pandas.core.frame.DataFrame'>\n",
      "RangeIndex: 158375 entries, 0 to 158374\n",
      "Data columns (total 7 columns):\n",
      " #   Column    Non-Null Count   Dtype              \n",
      "---  ------    --------------   -----              \n",
      " 0   sender    158375 non-null  object             \n",
      " 1   receiver  158375 non-null  object             \n",
      " 2   date      158375 non-null  datetime64[ns, UTC]\n",
      " 3   subject   158375 non-null  object             \n",
      " 4   body      158375 non-null  object             \n",
      " 5   label     158375 non-null  float64            \n",
      " 6   urls      158375 non-null  float64            \n",
      "dtypes: datetime64[ns, UTC](1), float64(2), object(4)\n",
      "memory usage: 8.5+ MB\n",
      "None\n",
      "Combined and cleaned data saved as 'combined_cleaned_data_updated.csv'.\n"
     ]
    }
   ],
   "source": [
    "import sys\n",
    "import csv\n",
    "import pandas as pd\n",
    "\n",
    "# Function to check if a sender has more than one '@' in the email\n",
    "def has_multiple_at(sender):\n",
    "    try:\n",
    "        email = sender.split('<')[-1].strip('> ').strip() if '<' in sender and '>' in sender else sender.strip()\n",
    "        return email.count('@') > 1  # Return True if more than one '@'\n",
    "    except Exception:\n",
    "        return False\n",
    "\n",
    "# Increase the field size limit for CSV reading\n",
    "max_int = sys.maxsize\n",
    "while True:\n",
    "    try:\n",
    "        csv.field_size_limit(max_int)\n",
    "        break\n",
    "    except OverflowError:\n",
    "        max_int = int(max_int / 10)\n",
    "\n",
    "# File paths\n",
    "file_names = ['CEAS-08.csv', 'TREC-05.csv', 'TREC-06.csv', 'TREC-07.csv']\n",
    "\n",
    "# Load and combine multiple CSV files into one DataFrame\n",
    "dataframes = []\n",
    "for file_name in file_names:\n",
    "    try:\n",
    "        dataframes.append(pd.read_csv(file_name, engine='python'))\n",
    "    except Exception as e:\n",
    "        print(f\"Error reading {file_name}: {e}\")\n",
    "\n",
    "combined_df = pd.concat(dataframes, ignore_index=True)\n",
    "print(f\"Raw Dataset Shape: {combined_df.shape}\")\n",
    "print(f\"Raw Dataset Null Counts:\\n{combined_df.isnull().sum()}\")\n",
    "\n",
    "# Remove rows with invalid labels\n",
    "combined_df = combined_df[combined_df['label'].isin([0, 1])]\n",
    "\n",
    "# Drop rows with missing critical values\n",
    "critical_columns = ['sender', 'receiver', 'date', 'subject', 'body', 'label']\n",
    "combined_df.dropna(subset=critical_columns, inplace=True)\n",
    "\n",
    "# Convert 'date' to datetime\n",
    "combined_df['date'] = pd.to_datetime(combined_df['date'], format='%a, %d %b %Y %H:%M:%S %z', errors='coerce', utc=True)\n",
    "combined_df.dropna(subset=['date'], inplace=True)  # Drop rows with invalid dates\n",
    "\n",
    "# Remove rows with senders having multiple '@'\n",
    "improper_senders = combined_df[combined_df['sender'].apply(has_multiple_at)]\n",
    "print(f\"\\nSenders with more than one '@': {improper_senders['sender'].unique()}\")\n",
    "print(f\"Count of improper sender rows: {len(improper_senders)}\")\n",
    "combined_df = combined_df[~combined_df['sender'].apply(has_multiple_at)]\n",
    "\n",
    "# Reset the index\n",
    "combined_df.reset_index(drop=True, inplace=True)\n",
    "\n",
    "# Display cleaned DataFrame info\n",
    "print(f\"\\nCleaned Dataset Shape: {combined_df.shape}\")\n",
    "print(combined_df.info())\n",
    "\n",
    "# Save the cleaned data to a CSV file\n",
    "output_file = 'combined_cleaned_data_updated.csv'\n",
    "combined_df.to_csv(output_file, index=False)\n",
    "print(f\"Combined and cleaned data saved as '{output_file}'.\")\n"
   ]
  },
  {
   "cell_type": "code",
   "execution_count": 2,
   "metadata": {},
   "outputs": [
    {
     "data": {
      "text/plain": [
       "(158375, 7)"
      ]
     },
     "execution_count": 2,
     "metadata": {},
     "output_type": "execute_result"
    }
   ],
   "source": [
    "combined_df.shape"
   ]
  }
 ],
 "metadata": {
  "kernelspec": {
   "display_name": "Python 3",
   "language": "python",
   "name": "python3"
  },
  "language_info": {
   "codemirror_mode": {
    "name": "ipython",
    "version": 3
   },
   "file_extension": ".py",
   "mimetype": "text/x-python",
   "name": "python",
   "nbconvert_exporter": "python",
   "pygments_lexer": "ipython3",
   "version": "3.9.13"
  }
 },
 "nbformat": 4,
 "nbformat_minor": 2
}
